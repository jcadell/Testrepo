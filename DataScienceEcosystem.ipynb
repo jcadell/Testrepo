{
 "cells": [
  {
   "cell_type": "markdown",
   "id": "ad99dcba-4734-48fe-8cc7-1cf82d17f141",
   "metadata": {},
   "source": [
    "# Data Science Tools and Ecosystem"
   ]
  },
  {
   "cell_type": "markdown",
   "id": "30370b4d-fb9a-43d1-8b58-2a1715a70f3e",
   "metadata": {},
   "source": [
    "## In this notebook, Data Science Tools and Ecosystem are summarized"
   ]
  },
  {
   "cell_type": "markdown",
   "id": "92a5ce99-87e9-48b1-a488-655ece5612b4",
   "metadata": {},
   "source": [
    "**Objectives:**\n",
    "\n",
    "- Creating a markdown cell to list popular languages Data Scientists use.\n",
    "- Creating a markdown cell to list Commonly used Libraries by Data Scientists.\n",
    "- Create a table listing open source Data Science Tools used by Data Scientists.\n",
    "- Using code cells to show arithmetic and multiplication of integers.\n",
    "- Creating a code cell to convert minutes to hours."
   ]
  },
  {
   "cell_type": "markdown",
   "id": "22bb861d-9f38-4dea-b4cc-1aa23c682d65",
   "metadata": {},
   "source": [
    "Some of the popular languages that Data Scientists use are:\n",
    "\n",
    "1. Python\n",
    "2. R\n",
    "3. SQL"
   ]
  },
  {
   "cell_type": "markdown",
   "id": "c860b4d3-601d-44af-9dcb-d4378a64e8cc",
   "metadata": {},
   "source": [
    "Some of the commonly used libraries by Data Scientists include:\n",
    "\n",
    "1. Pandas\n",
    "2. NumPy\n",
    "3. Matplotlib"
   ]
  },
  {
   "cell_type": "markdown",
   "id": "6ce461b7-a1f3-4c8b-846a-d07c391aa5e3",
   "metadata": {},
   "source": [
    "| Data Science Tools |\n",
    "| -----|\n",
    "| MySQL |\n",
    "| PostgreSQL |\n",
    "| MongoDB |"
   ]
  },
  {
   "cell_type": "markdown",
   "id": "22a241bc-a202-44bd-bcdd-e5d5b0bd6dc1",
   "metadata": {},
   "source": [
    "### Below are a few examples of evaluating arithmetic expressions in Python"
   ]
  },
  {
   "cell_type": "code",
   "execution_count": 1,
   "id": "e507c8ef-08e4-4aeb-81d7-2437f084009b",
   "metadata": {},
   "outputs": [
    {
     "data": {
      "text/plain": [
       "17"
      ]
     },
     "execution_count": 1,
     "metadata": {},
     "output_type": "execute_result"
    }
   ],
   "source": [
    "# This is a simple arithmetic expression to multiply then add integers\n",
    "\n",
    "(3*4)+5"
   ]
  },
  {
   "cell_type": "code",
   "execution_count": 4,
   "id": "0281cbfb-43ca-4516-ad3d-ae910a8b0b44",
   "metadata": {},
   "outputs": [
    {
     "data": {
      "text/plain": [
       "3.3333333333333335"
      ]
     },
     "execution_count": 4,
     "metadata": {},
     "output_type": "execute_result"
    }
   ],
   "source": [
    "# This will convert 200 minutes to hours by dividing by 60\n",
    "\n",
    "200/60"
   ]
  },
  {
   "cell_type": "markdown",
   "id": "91ea9658-de58-4960-babb-9e842def2011",
   "metadata": {},
   "source": [
    "## Author\n",
    "Jack Cadell"
   ]
  },
  {
   "cell_type": "code",
   "execution_count": null,
   "id": "48aaae7a-cb83-478a-bfb5-291921f48e67",
   "metadata": {},
   "outputs": [],
   "source": []
  }
 ],
 "metadata": {
  "kernelspec": {
   "display_name": "Python 3 (ipykernel)",
   "language": "python",
   "name": "python3"
  },
  "language_info": {
   "codemirror_mode": {
    "name": "ipython",
    "version": 3
   },
   "file_extension": ".py",
   "mimetype": "text/x-python",
   "name": "python",
   "nbconvert_exporter": "python",
   "pygments_lexer": "ipython3",
   "version": "3.11.7"
  }
 },
 "nbformat": 4,
 "nbformat_minor": 5
}
